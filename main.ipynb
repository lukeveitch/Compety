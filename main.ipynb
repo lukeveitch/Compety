{
 "cells": [
  {
   "cell_type": "code",
   "execution_count": 1,
   "metadata": {},
   "outputs": [],
   "source": [
    "import pandas as pd\n",
    "import numpy as np\n",
    "import matplotlib.pyplot as plt\n",
    "import seaborn as sns\n",
    "import scipy.stats as stats"
   ]
  },
  {
   "cell_type": "code",
   "execution_count": 2,
   "metadata": {},
   "outputs": [
    {
     "data": {
      "text/html": [
       "<div>\n",
       "<style scoped>\n",
       "    .dataframe tbody tr th:only-of-type {\n",
       "        vertical-align: middle;\n",
       "    }\n",
       "\n",
       "    .dataframe tbody tr th {\n",
       "        vertical-align: top;\n",
       "    }\n",
       "\n",
       "    .dataframe thead th {\n",
       "        text-align: right;\n",
       "    }\n",
       "</style>\n",
       "<table border=\"1\" class=\"dataframe\">\n",
       "  <thead>\n",
       "    <tr style=\"text-align: right;\">\n",
       "      <th></th>\n",
       "      <th>event_id</th>\n",
       "      <th>session_id</th>\n",
       "      <th>user_id</th>\n",
       "      <th>variation</th>\n",
       "      <th>platform</th>\n",
       "      <th>datetime_event</th>\n",
       "      <th>event_type</th>\n",
       "      <th>final_order_status</th>\n",
       "      <th>shop_id</th>\n",
       "    </tr>\n",
       "  </thead>\n",
       "  <tbody>\n",
       "    <tr>\n",
       "      <th>0</th>\n",
       "      <td>63527610</td>\n",
       "      <td>6391574</td>\n",
       "      <td>762832</td>\n",
       "      <td>2</td>\n",
       "      <td>Android</td>\n",
       "      <td>2024-11-30 16:23:46.391133804</td>\n",
       "      <td>entry_to_shop</td>\n",
       "      <td>successful</td>\n",
       "      <td>8531.0</td>\n",
       "    </tr>\n",
       "    <tr>\n",
       "      <th>1</th>\n",
       "      <td>12446736</td>\n",
       "      <td>6391574</td>\n",
       "      <td>762832</td>\n",
       "      <td>2</td>\n",
       "      <td>Android</td>\n",
       "      <td>2024-11-30 16:26:16.875713965</td>\n",
       "      <td>order_paid</td>\n",
       "      <td>successful</td>\n",
       "      <td>8531.0</td>\n",
       "    </tr>\n",
       "    <tr>\n",
       "      <th>2</th>\n",
       "      <td>90232698</td>\n",
       "      <td>6391574</td>\n",
       "      <td>762832</td>\n",
       "      <td>2</td>\n",
       "      <td>Android</td>\n",
       "      <td>2024-11-30 16:50:44.827088753</td>\n",
       "      <td>order_finished</td>\n",
       "      <td>successful</td>\n",
       "      <td>8531.0</td>\n",
       "    </tr>\n",
       "    <tr>\n",
       "      <th>3</th>\n",
       "      <td>74183469</td>\n",
       "      <td>9246026</td>\n",
       "      <td>762832</td>\n",
       "      <td>2</td>\n",
       "      <td>Android</td>\n",
       "      <td>2024-11-29 13:21:28.729203894</td>\n",
       "      <td>reload_the_page</td>\n",
       "      <td>NaN</td>\n",
       "      <td>6186.0</td>\n",
       "    </tr>\n",
       "    <tr>\n",
       "      <th>4</th>\n",
       "      <td>16360628</td>\n",
       "      <td>9246026</td>\n",
       "      <td>762832</td>\n",
       "      <td>2</td>\n",
       "      <td>Android</td>\n",
       "      <td>2024-11-29 13:21:35.213637901</td>\n",
       "      <td>entry_to_shop</td>\n",
       "      <td>NaN</td>\n",
       "      <td>6186.0</td>\n",
       "    </tr>\n",
       "  </tbody>\n",
       "</table>\n",
       "</div>"
      ],
      "text/plain": [
       "   event_id  session_id  user_id  variation platform  \\\n",
       "0  63527610     6391574   762832          2  Android   \n",
       "1  12446736     6391574   762832          2  Android   \n",
       "2  90232698     6391574   762832          2  Android   \n",
       "3  74183469     9246026   762832          2  Android   \n",
       "4  16360628     9246026   762832          2  Android   \n",
       "\n",
       "                  datetime_event       event_type final_order_status  shop_id  \n",
       "0  2024-11-30 16:23:46.391133804    entry_to_shop         successful   8531.0  \n",
       "1  2024-11-30 16:26:16.875713965       order_paid         successful   8531.0  \n",
       "2  2024-11-30 16:50:44.827088753   order_finished         successful   8531.0  \n",
       "3  2024-11-29 13:21:28.729203894  reload_the_page                NaN   6186.0  \n",
       "4  2024-11-29 13:21:35.213637901    entry_to_shop                NaN   6186.0  "
      ]
     },
     "execution_count": 2,
     "metadata": {},
     "output_type": "execute_result"
    }
   ],
   "source": [
    "raw_data = pd.read_csv('DATASET.csv')\n",
    "raw_data.head()"
   ]
  },
  {
   "cell_type": "markdown",
   "metadata": {},
   "source": [
    "# Data Cleaning & EDA"
   ]
  },
  {
   "cell_type": "code",
   "execution_count": 3,
   "metadata": {},
   "outputs": [
    {
     "name": "stdout",
     "output_type": "stream",
     "text": [
      "<class 'pandas.core.frame.DataFrame'>\n",
      "RangeIndex: 326921 entries, 0 to 326920\n",
      "Data columns (total 9 columns):\n",
      " #   Column              Non-Null Count   Dtype  \n",
      "---  ------              --------------   -----  \n",
      " 0   event_id            326921 non-null  int64  \n",
      " 1   session_id          326921 non-null  int64  \n",
      " 2   user_id             326921 non-null  int64  \n",
      " 3   variation           326921 non-null  int64  \n",
      " 4   platform            326921 non-null  object \n",
      " 5   datetime_event      326921 non-null  object \n",
      " 6   event_type          326921 non-null  object \n",
      " 7   final_order_status  170632 non-null  object \n",
      " 8   shop_id             315842 non-null  float64\n",
      "dtypes: float64(1), int64(4), object(4)\n",
      "memory usage: 22.4+ MB\n"
     ]
    }
   ],
   "source": [
    "raw_data.info()"
   ]
  },
  {
   "cell_type": "code",
   "execution_count": 4,
   "metadata": {},
   "outputs": [
    {
     "data": {
      "text/html": [
       "<div>\n",
       "<style scoped>\n",
       "    .dataframe tbody tr th:only-of-type {\n",
       "        vertical-align: middle;\n",
       "    }\n",
       "\n",
       "    .dataframe tbody tr th {\n",
       "        vertical-align: top;\n",
       "    }\n",
       "\n",
       "    .dataframe thead th {\n",
       "        text-align: right;\n",
       "    }\n",
       "</style>\n",
       "<table border=\"1\" class=\"dataframe\">\n",
       "  <thead>\n",
       "    <tr style=\"text-align: right;\">\n",
       "      <th></th>\n",
       "      <th>count</th>\n",
       "      <th>unique</th>\n",
       "      <th>top</th>\n",
       "      <th>freq</th>\n",
       "      <th>mean</th>\n",
       "      <th>std</th>\n",
       "      <th>min</th>\n",
       "      <th>25%</th>\n",
       "      <th>50%</th>\n",
       "      <th>75%</th>\n",
       "      <th>max</th>\n",
       "    </tr>\n",
       "  </thead>\n",
       "  <tbody>\n",
       "    <tr>\n",
       "      <th>event_id</th>\n",
       "      <td>326921.0</td>\n",
       "      <td>NaN</td>\n",
       "      <td>NaN</td>\n",
       "      <td>NaN</td>\n",
       "      <td>54971223.274348</td>\n",
       "      <td>26005727.141926</td>\n",
       "      <td>10000027.0</td>\n",
       "      <td>32451323.0</td>\n",
       "      <td>54919061.0</td>\n",
       "      <td>77504919.0</td>\n",
       "      <td>99999925.0</td>\n",
       "    </tr>\n",
       "    <tr>\n",
       "      <th>session_id</th>\n",
       "      <td>326921.0</td>\n",
       "      <td>NaN</td>\n",
       "      <td>NaN</td>\n",
       "      <td>NaN</td>\n",
       "      <td>5493266.772453</td>\n",
       "      <td>2598273.9833</td>\n",
       "      <td>1000058.0</td>\n",
       "      <td>3246170.0</td>\n",
       "      <td>5486265.0</td>\n",
       "      <td>7742072.0</td>\n",
       "      <td>9999979.0</td>\n",
       "    </tr>\n",
       "    <tr>\n",
       "      <th>user_id</th>\n",
       "      <td>326921.0</td>\n",
       "      <td>NaN</td>\n",
       "      <td>NaN</td>\n",
       "      <td>NaN</td>\n",
       "      <td>550159.16329</td>\n",
       "      <td>259722.459324</td>\n",
       "      <td>100003.0</td>\n",
       "      <td>325736.0</td>\n",
       "      <td>549509.0</td>\n",
       "      <td>775308.0</td>\n",
       "      <td>999985.0</td>\n",
       "    </tr>\n",
       "    <tr>\n",
       "      <th>variation</th>\n",
       "      <td>326921.0</td>\n",
       "      <td>NaN</td>\n",
       "      <td>NaN</td>\n",
       "      <td>NaN</td>\n",
       "      <td>1.349684</td>\n",
       "      <td>0.476871</td>\n",
       "      <td>1.0</td>\n",
       "      <td>1.0</td>\n",
       "      <td>1.0</td>\n",
       "      <td>2.0</td>\n",
       "      <td>2.0</td>\n",
       "    </tr>\n",
       "    <tr>\n",
       "      <th>platform</th>\n",
       "      <td>326921</td>\n",
       "      <td>2</td>\n",
       "      <td>Android</td>\n",
       "      <td>225929</td>\n",
       "      <td>NaN</td>\n",
       "      <td>NaN</td>\n",
       "      <td>NaN</td>\n",
       "      <td>NaN</td>\n",
       "      <td>NaN</td>\n",
       "      <td>NaN</td>\n",
       "      <td>NaN</td>\n",
       "    </tr>\n",
       "    <tr>\n",
       "      <th>datetime_event</th>\n",
       "      <td>326921</td>\n",
       "      <td>324699</td>\n",
       "      <td>2024-11-29 23:59:24.000000000</td>\n",
       "      <td>674</td>\n",
       "      <td>NaN</td>\n",
       "      <td>NaN</td>\n",
       "      <td>NaN</td>\n",
       "      <td>NaN</td>\n",
       "      <td>NaN</td>\n",
       "      <td>NaN</td>\n",
       "      <td>NaN</td>\n",
       "    </tr>\n",
       "    <tr>\n",
       "      <th>event_type</th>\n",
       "      <td>326921</td>\n",
       "      <td>4</td>\n",
       "      <td>entry_to_shop</td>\n",
       "      <td>168215</td>\n",
       "      <td>NaN</td>\n",
       "      <td>NaN</td>\n",
       "      <td>NaN</td>\n",
       "      <td>NaN</td>\n",
       "      <td>NaN</td>\n",
       "      <td>NaN</td>\n",
       "      <td>NaN</td>\n",
       "    </tr>\n",
       "    <tr>\n",
       "      <th>final_order_status</th>\n",
       "      <td>170632</td>\n",
       "      <td>3</td>\n",
       "      <td>successful</td>\n",
       "      <td>146035</td>\n",
       "      <td>NaN</td>\n",
       "      <td>NaN</td>\n",
       "      <td>NaN</td>\n",
       "      <td>NaN</td>\n",
       "      <td>NaN</td>\n",
       "      <td>NaN</td>\n",
       "      <td>NaN</td>\n",
       "    </tr>\n",
       "    <tr>\n",
       "      <th>shop_id</th>\n",
       "      <td>315842.0</td>\n",
       "      <td>NaN</td>\n",
       "      <td>NaN</td>\n",
       "      <td>NaN</td>\n",
       "      <td>5440.652238</td>\n",
       "      <td>2645.409437</td>\n",
       "      <td>1003.0</td>\n",
       "      <td>3150.0</td>\n",
       "      <td>5351.0</td>\n",
       "      <td>7801.0</td>\n",
       "      <td>9992.0</td>\n",
       "    </tr>\n",
       "  </tbody>\n",
       "</table>\n",
       "</div>"
      ],
      "text/plain": [
       "                       count  unique                            top    freq  \\\n",
       "event_id            326921.0     NaN                            NaN     NaN   \n",
       "session_id          326921.0     NaN                            NaN     NaN   \n",
       "user_id             326921.0     NaN                            NaN     NaN   \n",
       "variation           326921.0     NaN                            NaN     NaN   \n",
       "platform              326921       2                        Android  225929   \n",
       "datetime_event        326921  324699  2024-11-29 23:59:24.000000000     674   \n",
       "event_type            326921       4                  entry_to_shop  168215   \n",
       "final_order_status    170632       3                     successful  146035   \n",
       "shop_id             315842.0     NaN                            NaN     NaN   \n",
       "\n",
       "                               mean              std         min         25%  \\\n",
       "event_id            54971223.274348  26005727.141926  10000027.0  32451323.0   \n",
       "session_id           5493266.772453     2598273.9833   1000058.0   3246170.0   \n",
       "user_id                550159.16329    259722.459324    100003.0    325736.0   \n",
       "variation                  1.349684         0.476871         1.0         1.0   \n",
       "platform                        NaN              NaN         NaN         NaN   \n",
       "datetime_event                  NaN              NaN         NaN         NaN   \n",
       "event_type                      NaN              NaN         NaN         NaN   \n",
       "final_order_status              NaN              NaN         NaN         NaN   \n",
       "shop_id                 5440.652238      2645.409437      1003.0      3150.0   \n",
       "\n",
       "                           50%         75%         max  \n",
       "event_id            54919061.0  77504919.0  99999925.0  \n",
       "session_id           5486265.0   7742072.0   9999979.0  \n",
       "user_id               549509.0    775308.0    999985.0  \n",
       "variation                  1.0         2.0         2.0  \n",
       "platform                   NaN         NaN         NaN  \n",
       "datetime_event             NaN         NaN         NaN  \n",
       "event_type                 NaN         NaN         NaN  \n",
       "final_order_status         NaN         NaN         NaN  \n",
       "shop_id                 5351.0      7801.0      9992.0  "
      ]
     },
     "execution_count": 4,
     "metadata": {},
     "output_type": "execute_result"
    }
   ],
   "source": [
    "raw_data.describe(include='all').T"
   ]
  },
  {
   "cell_type": "markdown",
   "metadata": {},
   "source": [
    "##### **Summary Statistics**\n",
    "\n",
    "**Mean of 1.35** - Variation 1 (control) has 65% of the data. (65%/35%) split between control and test isn't exactly even - was this intentional or a randomization error? \n",
    "\n",
    "Most events 69% occured on **Android devices** - why such a skew to one device? Will need to keep this platform imbalance in mind. "
   ]
  },
  {
   "cell_type": "code",
   "execution_count": 5,
   "metadata": {},
   "outputs": [
    {
     "name": "stdout",
     "output_type": "stream",
     "text": [
      "2024-11-25\n",
      "2024-11-26\n",
      "2024-11-27\n",
      "2024-11-28\n",
      "2024-11-29\n",
      "2024-11-30\n",
      "2024-12-01\n"
     ]
    },
    {
     "data": {
      "text/plain": [
       "[None, None, None, None, None, None, None]"
      ]
     },
     "execution_count": 5,
     "metadata": {},
     "output_type": "execute_result"
    }
   ],
   "source": [
    "df = raw_data\n",
    "df['datetime_event'] = pd.to_datetime(df['datetime_event'])\n",
    "days = df['datetime_event'].dt.date.unique()\n",
    "days.sort()\n",
    "[print(day.strftime('%Y-%m-%d')) for day in days]"
   ]
  },
  {
   "cell_type": "markdown",
   "metadata": {},
   "source": [
    "## 1. Dates - The test period is Nov 25-30, 2024\n",
    "\n",
    "- There's dates that are outside our testing period -> we need to clean this. \n",
    "- We also need to conside sessions that cross the boundaries of the test period is important for accuracy - so we'll do this first. \n",
    "    - i.e. person that starts a session before midnight (within the test period), but finishes their session outside the test period. "
   ]
  },
  {
   "cell_type": "code",
   "execution_count": 6,
   "metadata": {},
   "outputs": [],
   "source": [
    "# Test period boundaries\n",
    "start_date = pd.Timestamp('2024-11-25')\n",
    "end_date = pd.Timestamp('2024-11-30 23:59:59')"
   ]
  },
  {
   "cell_type": "code",
   "execution_count": null,
   "metadata": {},
   "outputs": [
    {
     "data": {
      "text/plain": [
       "179294"
      ]
     },
     "execution_count": 24,
     "metadata": {},
     "output_type": "execute_result"
    }
   ],
   "source": [
    "# Find sessions that cross test boundaries\n",
    "sessions_in_period = df[(df['datetime_event'] >= start_date) & (df['datetime_event'] <= end_date)]['session_id'].unique()\n",
    "len(sessions_in_period)"
   ]
  },
  {
   "cell_type": "code",
   "execution_count": 26,
   "metadata": {},
   "outputs": [
    {
     "data": {
      "text/plain": [
       "740"
      ]
     },
     "execution_count": 26,
     "metadata": {},
     "output_type": "execute_result"
    }
   ],
   "source": [
    "sessions_crossing_boundary = df[(df['datetime_event'] <= end_date) & (df.groupby('session_id')['datetime_event'].transform('max') > end_date)]['session_id'].unique()\n",
    "\n",
    "# Get the all sessions that cross the boundary\n",
    "cross_boundary_sessions = df[df['session_id'].isin(sessions_crossing_boundary)]\n",
    "len(cross_boundary_sessions)"
   ]
  },
  {
   "cell_type": "markdown",
   "metadata": {},
   "source": [
    "I will include these sessions in my analysis, since other days in the test had these similar users that crossed from one day to the next. We also need to consider: \n",
    "\n",
    "- Preserving the original experimental cohort\n",
    "- Avoiding introduction of bias by arbitrarily removing sessions"
   ]
  },
  {
   "cell_type": "markdown",
   "metadata": {},
   "source": [
    "### Checking for variation in sessions time during the day"
   ]
  },
  {
   "cell_type": "code",
   "execution_count": 27,
   "metadata": {},
   "outputs": [
    {
     "name": "stdout",
     "output_type": "stream",
     "text": [
      "Events per day by variation:\n",
      "variation           1      2\n",
      "datetime_event              \n",
      "2024-11-25      23112  12199\n",
      "2024-11-26      25376  13791\n",
      "2024-11-27      25293  13875\n",
      "2024-11-28      28054  14835\n",
      "2024-11-29      63825  34030\n",
      "2024-11-30      46703  25460\n",
      "2024-12-01        239    129\n"
     ]
    }
   ],
   "source": [
    "# Check events per day by variation\n",
    "daily_events = df.groupby([df['datetime_event'].dt.date, 'variation']).size().unstack()\n",
    "print(\"Events per day by variation:\")\n",
    "print(daily_events)"
   ]
  },
  {
   "cell_type": "code",
   "execution_count": 28,
   "metadata": {},
   "outputs": [
    {
     "data": {
      "text/plain": [
       "<Figure size 1200x600 with 0 Axes>"
      ]
     },
     "metadata": {},
     "output_type": "display_data"
    },
    {
     "data": {
      "image/png": "[encoded data removed]",
      "text/plain": [
       "<Figure size 640x480 with 1 Axes>"
      ]
     },
     "metadata": {},
     "output_type": "display_data"
    }
   ],
   "source": [
    "# Check for gaps - count hourly events to identify potential collection issues\n",
    "hourly_events = df.groupby([df['datetime_event'].dt.date, \n",
    "                                df['datetime_event'].dt.hour, \n",
    "                                'variation']).size().unstack()\n",
    "                 \n",
    "# Visualize the hourly distribution to spot gaps\n",
    "plt.figure(figsize=(12, 6))\n",
    "hourly_events.plot(kind='kde')\n",
    "plt.title('Hourly Event Distribution by Variation')\n",
    "plt.xlabel('Variation')\n",
    "plt.ylabel('Date - Hour')\n",
    "plt.show()"
   ]
  },
  {
   "cell_type": "code",
   "execution_count": 29,
   "metadata": {},
   "outputs": [
    {
     "name": "stdout",
     "output_type": "stream",
     "text": [
      "\n",
      "NaN values in each column:\n",
      "event_id                   0\n",
      "session_id                 0\n",
      "user_id                    0\n",
      "variation                  0\n",
      "platform                   0\n",
      "datetime_event             0\n",
      "event_type                 0\n",
      "final_order_status    156289\n",
      "shop_id                11079\n",
      "dtype: int64\n",
      "\n",
      "Journey completeness by variation:\n",
      "           event_type  final_order_status\n",
      "variation                                \n",
      "1            0.937696            0.245829\n",
      "2            0.939160            0.258305\n"
     ]
    }
   ],
   "source": [
    "\n",
    "# Count NaN values in important columns\n",
    "nan_counts = df.isna().sum()\n",
    "print(\"\\nNaN values in each column:\")\n",
    "print(nan_counts)\n",
    "\n",
    "# Check completeness of user journeys\n",
    "journey_completeness = df.groupby(['session_id', 'variation']).agg({\n",
    "    'event_type': lambda x: 'entry_to_shop' in x.values,\n",
    "    'final_order_status': lambda x: 'successful' in x.values\n",
    "}).groupby('variation').mean()\n",
    "\n",
    "print(\"\\nJourney completeness by variation:\")\n",
    "print(journey_completeness)"
   ]
  },
  {
   "cell_type": "markdown",
   "metadata": {},
   "source": [
    "### **Summary Statistics**\n",
    "\n",
    "**Mean of 1.35** - Variation 1 (control) has 65% of the data. (65%/35%) split between control and test isn't exactly even - was this intentional or a randomization error? \n",
    "\n",
    "Most events 69% occured on **Android devices** - why such a skew to one device? Will need to keep this platform imbalance in mind. "
   ]
  },
  {
   "cell_type": "code",
   "execution_count": 30,
   "metadata": {},
   "outputs": [
    {
     "data": {
      "text/plain": [
       "event_id                   0\n",
       "session_id                 0\n",
       "user_id                    0\n",
       "variation                  0\n",
       "platform                   0\n",
       "datetime_event             0\n",
       "event_type                 0\n",
       "final_order_status    156289\n",
       "shop_id                11079\n",
       "dtype: int64"
      ]
     },
     "execution_count": 30,
     "metadata": {},
     "output_type": "execute_result"
    }
   ],
   "source": [
    "missing_values = df.isnull().sum()\n",
    "missing_percentage = (df.isnull().sum() / len(df)) * 100\n",
    "\n",
    "missing_values\n"
   ]
  },
  {
   "cell_type": "code",
   "execution_count": 31,
   "metadata": {},
   "outputs": [
    {
     "data": {
      "text/plain": [
       "event_id               0.000000\n",
       "session_id             0.000000\n",
       "user_id                0.000000\n",
       "variation              0.000000\n",
       "platform               0.000000\n",
       "datetime_event         0.000000\n",
       "event_type             0.000000\n",
       "final_order_status    47.806351\n",
       "shop_id                3.388892\n",
       "dtype: float64"
      ]
     },
     "execution_count": 31,
     "metadata": {},
     "output_type": "execute_result"
    }
   ],
   "source": [
    "missing_percentage"
   ]
  },
  {
   "cell_type": "markdown",
   "metadata": {},
   "source": [
    "### **Missing Values**\n",
    "\n",
    "Almost half of the events don't have a **final_order_status** - need to check if any order completion events are missing their status\n",
    "\n",
    "**shop_id** is missing for some events - could be a data completeness issue. "
   ]
  },
  {
   "cell_type": "code",
   "execution_count": 32,
   "metadata": {},
   "outputs": [
    {
     "name": "stdout",
     "output_type": "stream",
     "text": [
      "Missing final_order_status by event_type (%):\n",
      " event_type\n",
      "reload_the_page    75.166141\n",
      "entry_to_shop      68.838689\n",
      "order_finished      0.000000\n",
      "order_paid          0.000000\n",
      "Name: final_order_status, dtype: float64\n",
      "\n",
      "Order events missing status: 0\n",
      "\n",
      "Missing shop_id by event_type (%):\n",
      " event_type\n",
      "reload_the_page    20.566178\n",
      "entry_to_shop       0.000000\n",
      "order_finished      0.000000\n",
      "order_paid          0.000000\n",
      "Name: shop_id, dtype: float64\n",
      "\n",
      "Missing shop_id by platform (%):\n",
      " platform\n",
      "Android    3.434265\n",
      "iOS        3.287389\n",
      "Name: shop_id, dtype: float64\n",
      "\n",
      "Missing shop_id by variation (%):\n",
      " variation\n",
      "1    3.416713\n",
      "2    3.337153\n",
      "Name: shop_id, dtype: float64\n"
     ]
    },
    {
     "data": {
      "image/png": "[encoded data removed]",
      "text/plain": [
       "<Figure size 1200x500 with 1 Axes>"
      ]
     },
     "metadata": {},
     "output_type": "display_data"
    }
   ],
   "source": [
    "# Missing final_order_status by event_type\n",
    "missing_by_event = df.groupby('event_type')['final_order_status'].apply(lambda x: x.isnull().mean() * 100).sort_values(ascending=False)\n",
    "print(\"Missing final_order_status by event_type (%):\\n\", missing_by_event)\n",
    "\n",
    "# Check if order completion events are missing status\n",
    "order_missing = df[df['event_type'].isin(['order_paid', 'order_finished']) & df['final_order_status'].isnull()]\n",
    "print(f\"\\nOrder events missing status: {len(order_missing)}\")\n",
    "\n",
    "# Missing shop_id analysis\n",
    "print(\"\\nMissing shop_id by event_type (%):\\n\", df.groupby('event_type')['shop_id'].apply(lambda x: x.isnull().mean() * 100).sort_values(ascending=False))\n",
    "print(\"\\nMissing shop_id by platform (%):\\n\", df.groupby('platform')['shop_id'].apply(lambda x: x.isnull().mean() * 100))\n",
    "print(\"\\nMissing shop_id by variation (%):\\n\", df.groupby('variation')['shop_id'].apply(lambda x: x.isnull().mean() * 100))\n",
    "\n",
    "# Visualize relationship between missing values\n",
    "plt.figure(figsize=(12, 5))\n",
    "plt.subplot(1, 2, 1)\n",
    "sns.barplot(x=missing_by_event.index, y=missing_by_event.values)\n",
    "plt.title('Missing final_order_status by Event Type (%)')\n",
    "plt.xticks(rotation=45)\n",
    "\n",
    "plt.show()"
   ]
  },
  {
   "cell_type": "markdown",
   "metadata": {},
   "source": [
    "**For missing final_order_status**: This pattern makes  sense from a business perspective - early funnel events like page reloads and shop entries naturally don't have order statuses. \n",
    "It's not random and follows a structure - we will leave them as is. \n",
    "\n",
    "**For missing shop_id**: About 20.6% of reload_the_page events have missing shop IDs. All other event types have complete shop ID information. We could fill in the missing shop_ids based on users with mulitple events from the same session - this could deal with some of them. \n",
    "\n",
    "However, since the reload_page events is the only event with missing shop ids, is relatively small across platforms and variations we could just keep it as is.\n",
    "The similar rates of missing values of shop_ids is a good thing:\n",
    "\n",
    "- Android (3.43%) and iOS (3.29%)\n",
    "- Variation 1 (3.42%) and Variation 2 (3.34%) \n",
    "\n",
    "We can test for significance here -  difference of 0.14% between platforms and 0.08% between variations."
   ]
  },
  {
   "cell_type": "code",
   "execution_count": 33,
   "metadata": {},
   "outputs": [
    {
     "name": "stdout",
     "output_type": "stream",
     "text": [
      "Platform missing values comparison:\n",
      "Android: 3.4343% missing\n",
      "iOS: 3.2874% missing\n",
      "Chi-square statistic: 4.5539\n",
      "p-value: 0.0328\n",
      "Statistically significant difference: True\n",
      "\n",
      "Variation missing values comparison:\n",
      "Variation 1: 3.4167% missing\n",
      "Variation 2: 3.3372% missing\n",
      "Chi-square statistic: 1.4131\n",
      "p-value: 0.2345\n",
      "Statistically significant difference: False\n"
     ]
    }
   ],
   "source": [
    "# For platforms (Android vs iOS)\n",
    "# Create a contingency table for missing shop_id values by platform\n",
    "android_missing = df[df['platform'] == 'Android']['shop_id'].isnull().sum()\n",
    "android_total = len(df[df['platform'] == 'Android'])\n",
    "android_not_missing = android_total - android_missing\n",
    "\n",
    "ios_missing = df[df['platform'] == 'iOS']['shop_id'].isnull().sum()\n",
    "ios_total = len(df[df['platform'] == 'iOS'])\n",
    "ios_not_missing = ios_total - ios_missing\n",
    "\n",
    "# Create contingency table\n",
    "platform_contingency = np.array([[android_missing, android_not_missing], \n",
    "                                [ios_missing, ios_not_missing]])\n",
    "\n",
    "# Perform chi-square test\n",
    "chi2, p_platform, _, _ = stats.chi2_contingency(platform_contingency)\n",
    "\n",
    "print(f\"Platform missing values comparison:\")\n",
    "print(f\"Android: {android_missing/android_total*100:.4f}% missing\")\n",
    "print(f\"iOS: {ios_missing/ios_total*100:.4f}% missing\")\n",
    "print(f\"Chi-square statistic: {chi2:.4f}\")\n",
    "print(f\"p-value: {p_platform:.4f}\")\n",
    "print(f\"Statistically significant difference: {p_platform < 0.05}\")\n",
    "\n",
    "# For variations (Variation 1 vs Variation 2)\n",
    "var1_missing = df[df['variation'] == 1]['shop_id'].isnull().sum()\n",
    "var1_total = len(df[df['variation'] == 1])\n",
    "var1_not_missing = var1_total - var1_missing\n",
    "\n",
    "var2_missing = df[df['variation'] == 2]['shop_id'].isnull().sum()\n",
    "var2_total = len(df[df['variation'] == 2])\n",
    "var2_not_missing = var2_total - var2_missing\n",
    "\n",
    "# Create contingency table\n",
    "variation_contingency = np.array([[var1_missing, var1_not_missing], \n",
    "                                 [var2_missing, var2_not_missing]])\n",
    "\n",
    "# Perform chi-square test\n",
    "chi2, p_variation, _, _ = stats.chi2_contingency(variation_contingency)\n",
    "\n",
    "print(f\"\\nVariation missing values comparison:\")\n",
    "print(f\"Variation 1: {var1_missing/var1_total*100:.4f}% missing\")\n",
    "print(f\"Variation 2: {var2_missing/var2_total*100:.4f}% missing\")\n",
    "print(f\"Chi-square statistic: {chi2:.4f}\")\n",
    "print(f\"p-value: {p_variation:.4f}\")\n",
    "print(f\"Statistically significant difference: {p_variation < 0.05}\")"
   ]
  },
  {
   "cell_type": "markdown",
   "metadata": {},
   "source": [
    "My approach here will be to seperate the ab test resulst by platform before combining them since there's statistical significance. I could impute the missing values but dont think it's worth it due to:\n",
    "\n",
    "-  Practical difference is minimal at 0.14%. Statistical significance doesn't always mean practical significance. There's also far more android users. \n",
    "\n",
    "- It may be worth investigating why Android has slightly more missing shop_id values. Probably a technical reason? \n",
    "\n",
    "- Mising values in shop_ids doesnt change key conversion metrics, due to the missing values being top of funnel. "
   ]
  },
  {
   "cell_type": "markdown",
   "metadata": {},
   "source": [
    "### **Detect Outliers - Session Duration**\n",
    "\n",
    "abnormal user behaviour"
   ]
  },
  {
   "cell_type": "code",
   "execution_count": 34,
   "metadata": {},
   "outputs": [
    {
     "data": {
      "text/html": [
       "<div>\n",
       "<style scoped>\n",
       "    .dataframe tbody tr th:only-of-type {\n",
       "        vertical-align: middle;\n",
       "    }\n",
       "\n",
       "    .dataframe tbody tr th {\n",
       "        vertical-align: top;\n",
       "    }\n",
       "\n",
       "    .dataframe thead tr th {\n",
       "        text-align: left;\n",
       "    }\n",
       "\n",
       "    .dataframe thead tr:last-of-type th {\n",
       "        text-align: right;\n",
       "    }\n",
       "</style>\n",
       "<table border=\"1\" class=\"dataframe\">\n",
       "  <thead>\n",
       "    <tr>\n",
       "      <th></th>\n",
       "      <th colspan=\"2\" halign=\"left\">datetime_event</th>\n",
       "      <th>user_id</th>\n",
       "      <th>variation</th>\n",
       "    </tr>\n",
       "    <tr>\n",
       "      <th></th>\n",
       "      <th>min</th>\n",
       "      <th>max</th>\n",
       "      <th>first</th>\n",
       "      <th>first</th>\n",
       "    </tr>\n",
       "    <tr>\n",
       "      <th>session_id</th>\n",
       "      <th></th>\n",
       "      <th></th>\n",
       "      <th></th>\n",
       "      <th></th>\n",
       "    </tr>\n",
       "  </thead>\n",
       "  <tbody>\n",
       "    <tr>\n",
       "      <th>1000058</th>\n",
       "      <td>2024-11-29 18:32:58.844334422</td>\n",
       "      <td>2024-11-29 18:55:03.579241733</td>\n",
       "      <td>142968</td>\n",
       "      <td>2</td>\n",
       "    </tr>\n",
       "    <tr>\n",
       "      <th>1000171</th>\n",
       "      <td>2024-11-26 18:16:30.815995324</td>\n",
       "      <td>2024-11-26 18:16:30.815995324</td>\n",
       "      <td>567652</td>\n",
       "      <td>2</td>\n",
       "    </tr>\n",
       "    <tr>\n",
       "      <th>1000196</th>\n",
       "      <td>2024-11-30 15:48:48.603684225</td>\n",
       "      <td>2024-11-30 15:48:48.603684225</td>\n",
       "      <td>254148</td>\n",
       "      <td>2</td>\n",
       "    </tr>\n",
       "    <tr>\n",
       "      <th>1000206</th>\n",
       "      <td>2024-11-25 22:33:58.074592730</td>\n",
       "      <td>2024-11-25 22:33:58.074592730</td>\n",
       "      <td>941111</td>\n",
       "      <td>1</td>\n",
       "    </tr>\n",
       "    <tr>\n",
       "      <th>1000209</th>\n",
       "      <td>2024-11-27 19:19:34.319787366</td>\n",
       "      <td>2024-11-27 19:19:44.337119474</td>\n",
       "      <td>605587</td>\n",
       "      <td>1</td>\n",
       "    </tr>\n",
       "  </tbody>\n",
       "</table>\n",
       "</div>"
      ],
      "text/plain": [
       "                          datetime_event                                \\\n",
       "                                     min                           max   \n",
       "session_id                                                               \n",
       "1000058    2024-11-29 18:32:58.844334422 2024-11-29 18:55:03.579241733   \n",
       "1000171    2024-11-26 18:16:30.815995324 2024-11-26 18:16:30.815995324   \n",
       "1000196    2024-11-30 15:48:48.603684225 2024-11-30 15:48:48.603684225   \n",
       "1000206    2024-11-25 22:33:58.074592730 2024-11-25 22:33:58.074592730   \n",
       "1000209    2024-11-27 19:19:34.319787366 2024-11-27 19:19:44.337119474   \n",
       "\n",
       "           user_id variation  \n",
       "             first     first  \n",
       "session_id                    \n",
       "1000058     142968         2  \n",
       "1000171     567652         2  \n",
       "1000196     254148         2  \n",
       "1000206     941111         1  \n",
       "1000209     605587         1  "
      ]
     },
     "execution_count": 34,
     "metadata": {},
     "output_type": "execute_result"
    }
   ],
   "source": [
    "df['datetime_event'] = pd.to_datetime(df['datetime_event'])\n",
    "session_data = df.groupby('session_id').agg({'datetime_event': ['min', 'max'], 'user_id': 'first', 'variation': 'first'})\n",
    "session_data.head()"
   ]
  },
  {
   "cell_type": "code",
   "execution_count": 35,
   "metadata": {},
   "outputs": [
    {
     "data": {
      "text/html": [
       "<div>\n",
       "<style scoped>\n",
       "    .dataframe tbody tr th:only-of-type {\n",
       "        vertical-align: middle;\n",
       "    }\n",
       "\n",
       "    .dataframe tbody tr th {\n",
       "        vertical-align: top;\n",
       "    }\n",
       "\n",
       "    .dataframe thead th {\n",
       "        text-align: right;\n",
       "    }\n",
       "</style>\n",
       "<table border=\"1\" class=\"dataframe\">\n",
       "  <thead>\n",
       "    <tr style=\"text-align: right;\">\n",
       "      <th></th>\n",
       "      <th>start_time</th>\n",
       "      <th>end_time</th>\n",
       "      <th>user_id</th>\n",
       "      <th>variation</th>\n",
       "      <th>duration_minutes</th>\n",
       "    </tr>\n",
       "    <tr>\n",
       "      <th>session_id</th>\n",
       "      <th></th>\n",
       "      <th></th>\n",
       "      <th></th>\n",
       "      <th></th>\n",
       "      <th></th>\n",
       "    </tr>\n",
       "  </thead>\n",
       "  <tbody>\n",
       "    <tr>\n",
       "      <th>1000058</th>\n",
       "      <td>2024-11-29 18:32:58.844334422</td>\n",
       "      <td>2024-11-29 18:55:03.579241733</td>\n",
       "      <td>142968</td>\n",
       "      <td>2</td>\n",
       "      <td>22.078915</td>\n",
       "    </tr>\n",
       "    <tr>\n",
       "      <th>1000171</th>\n",
       "      <td>2024-11-26 18:16:30.815995324</td>\n",
       "      <td>2024-11-26 18:16:30.815995324</td>\n",
       "      <td>567652</td>\n",
       "      <td>2</td>\n",
       "      <td>0.000000</td>\n",
       "    </tr>\n",
       "    <tr>\n",
       "      <th>1000196</th>\n",
       "      <td>2024-11-30 15:48:48.603684225</td>\n",
       "      <td>2024-11-30 15:48:48.603684225</td>\n",
       "      <td>254148</td>\n",
       "      <td>2</td>\n",
       "      <td>0.000000</td>\n",
       "    </tr>\n",
       "    <tr>\n",
       "      <th>1000206</th>\n",
       "      <td>2024-11-25 22:33:58.074592730</td>\n",
       "      <td>2024-11-25 22:33:58.074592730</td>\n",
       "      <td>941111</td>\n",
       "      <td>1</td>\n",
       "      <td>0.000000</td>\n",
       "    </tr>\n",
       "    <tr>\n",
       "      <th>1000209</th>\n",
       "      <td>2024-11-27 19:19:34.319787366</td>\n",
       "      <td>2024-11-27 19:19:44.337119474</td>\n",
       "      <td>605587</td>\n",
       "      <td>1</td>\n",
       "      <td>0.166956</td>\n",
       "    </tr>\n",
       "  </tbody>\n",
       "</table>\n",
       "</div>"
      ],
      "text/plain": [
       "                              start_time                      end_time  \\\n",
       "session_id                                                               \n",
       "1000058    2024-11-29 18:32:58.844334422 2024-11-29 18:55:03.579241733   \n",
       "1000171    2024-11-26 18:16:30.815995324 2024-11-26 18:16:30.815995324   \n",
       "1000196    2024-11-30 15:48:48.603684225 2024-11-30 15:48:48.603684225   \n",
       "1000206    2024-11-25 22:33:58.074592730 2024-11-25 22:33:58.074592730   \n",
       "1000209    2024-11-27 19:19:34.319787366 2024-11-27 19:19:44.337119474   \n",
       "\n",
       "            user_id  variation  duration_minutes  \n",
       "session_id                                        \n",
       "1000058      142968          2         22.078915  \n",
       "1000171      567652          2          0.000000  \n",
       "1000196      254148          2          0.000000  \n",
       "1000206      941111          1          0.000000  \n",
       "1000209      605587          1          0.166956  "
      ]
     },
     "execution_count": 35,
     "metadata": {},
     "output_type": "execute_result"
    }
   ],
   "source": [
    "session_data.columns = ['start_time', 'end_time', 'user_id', 'variation']\n",
    "session_data['duration_minutes'] = (session_data['end_time'] - session_data['start_time']).dt.total_seconds() / 60\n",
    "session_data.head()"
   ]
  },
  {
   "cell_type": "code",
   "execution_count": 36,
   "metadata": {},
   "outputs": [
    {
     "name": "stdout",
     "output_type": "stream",
     "text": [
      "Number of unusually long sessions: 3360\n",
      "\n",
      "Statistics for session durations (in minutes):\n",
      "count    179294.000000\n",
      "mean         10.797711\n",
      "std          18.306269\n",
      "min           0.000000\n",
      "25%           0.000000\n",
      "50%           0.000000\n",
      "75%          23.846971\n",
      "max         176.260608\n",
      "Name: duration_minutes, dtype: float64\n",
      "\n",
      "Top 5 longest sessions:\n",
      "                              start_time                      end_time  \\\n",
      "session_id                                                               \n",
      "7799534    2024-11-30 16:40:47.415643212 2024-11-30 19:37:03.052104168   \n",
      "7547718    2024-11-30 17:12:07.467934773 2024-11-30 19:47:46.714697059   \n",
      "5672583    2024-11-27 21:04:40.954634637 2024-11-27 23:36:34.991006840   \n",
      "2593148    2024-11-27 23:59:22.764860307 2024-11-28 02:29:38.755541710   \n",
      "7355527    2024-11-29 21:25:13.860258488 2024-11-29 23:49:08.068029540   \n",
      "\n",
      "            user_id  variation  duration_minutes  \n",
      "session_id                                        \n",
      "7799534      674460          1        176.260608  \n",
      "7547718      932609          1        155.654113  \n",
      "5672583      737564          1        151.900606  \n",
      "2593148      414198          2        150.266511  \n",
      "7355527      914797          1        143.903463  \n"
     ]
    },
    {
     "data": {
      "text/html": [
       "<div>\n",
       "<style scoped>\n",
       "    .dataframe tbody tr th:only-of-type {\n",
       "        vertical-align: middle;\n",
       "    }\n",
       "\n",
       "    .dataframe tbody tr th {\n",
       "        vertical-align: top;\n",
       "    }\n",
       "\n",
       "    .dataframe thead th {\n",
       "        text-align: right;\n",
       "    }\n",
       "</style>\n",
       "<table border=\"1\" class=\"dataframe\">\n",
       "  <thead>\n",
       "    <tr style=\"text-align: right;\">\n",
       "      <th></th>\n",
       "      <th>count</th>\n",
       "      <th>mean</th>\n",
       "      <th>min</th>\n",
       "      <th>25%</th>\n",
       "      <th>50%</th>\n",
       "      <th>75%</th>\n",
       "      <th>max</th>\n",
       "      <th>std</th>\n",
       "    </tr>\n",
       "  </thead>\n",
       "  <tbody>\n",
       "    <tr>\n",
       "      <th>start_time</th>\n",
       "      <td>179294</td>\n",
       "      <td>2024-11-28 19:37:50.664489216</td>\n",
       "      <td>2024-11-25 08:24:52.239254871</td>\n",
       "      <td>2024-11-27 16:11:14.141652224</td>\n",
       "      <td>2024-11-29 14:48:48.542581504</td>\n",
       "      <td>2024-11-29 21:39:02.095640320</td>\n",
       "      <td>2024-11-30 23:59:24</td>\n",
       "      <td>NaN</td>\n",
       "    </tr>\n",
       "    <tr>\n",
       "      <th>end_time</th>\n",
       "      <td>179294</td>\n",
       "      <td>2024-11-28 19:48:38.527131136</td>\n",
       "      <td>2024-11-25 09:20:42.354930277</td>\n",
       "      <td>2024-11-27 16:21:43.905405696</td>\n",
       "      <td>2024-11-29 14:57:22.301100800</td>\n",
       "      <td>2024-11-29 21:51:30.307173376</td>\n",
       "      <td>2024-12-01 01:14:56.038636271</td>\n",
       "      <td>NaN</td>\n",
       "    </tr>\n",
       "    <tr>\n",
       "      <th>user_id</th>\n",
       "      <td>179294.0</td>\n",
       "      <td>549906.855215</td>\n",
       "      <td>100003.0</td>\n",
       "      <td>325372.0</td>\n",
       "      <td>549021.5</td>\n",
       "      <td>775047.25</td>\n",
       "      <td>999985.0</td>\n",
       "      <td>259952.026473</td>\n",
       "    </tr>\n",
       "    <tr>\n",
       "      <th>variation</th>\n",
       "      <td>179294.0</td>\n",
       "      <td>1.349733</td>\n",
       "      <td>1.0</td>\n",
       "      <td>1.0</td>\n",
       "      <td>1.0</td>\n",
       "      <td>2.0</td>\n",
       "      <td>2.0</td>\n",
       "      <td>0.476887</td>\n",
       "    </tr>\n",
       "    <tr>\n",
       "      <th>duration_minutes</th>\n",
       "      <td>179294.0</td>\n",
       "      <td>10.797711</td>\n",
       "      <td>0.0</td>\n",
       "      <td>0.0</td>\n",
       "      <td>0.0</td>\n",
       "      <td>23.846971</td>\n",
       "      <td>176.260608</td>\n",
       "      <td>18.306269</td>\n",
       "    </tr>\n",
       "  </tbody>\n",
       "</table>\n",
       "</div>"
      ],
      "text/plain": [
       "                     count                           mean  \\\n",
       "start_time          179294  2024-11-28 19:37:50.664489216   \n",
       "end_time            179294  2024-11-28 19:48:38.527131136   \n",
       "user_id           179294.0                  549906.855215   \n",
       "variation         179294.0                       1.349733   \n",
       "duration_minutes  179294.0                      10.797711   \n",
       "\n",
       "                                            min  \\\n",
       "start_time        2024-11-25 08:24:52.239254871   \n",
       "end_time          2024-11-25 09:20:42.354930277   \n",
       "user_id                                100003.0   \n",
       "variation                                   1.0   \n",
       "duration_minutes                            0.0   \n",
       "\n",
       "                                            25%  \\\n",
       "start_time        2024-11-27 16:11:14.141652224   \n",
       "end_time          2024-11-27 16:21:43.905405696   \n",
       "user_id                                325372.0   \n",
       "variation                                   1.0   \n",
       "duration_minutes                            0.0   \n",
       "\n",
       "                                            50%  \\\n",
       "start_time        2024-11-29 14:48:48.542581504   \n",
       "end_time          2024-11-29 14:57:22.301100800   \n",
       "user_id                                549021.5   \n",
       "variation                                   1.0   \n",
       "duration_minutes                            0.0   \n",
       "\n",
       "                                            75%  \\\n",
       "start_time        2024-11-29 21:39:02.095640320   \n",
       "end_time          2024-11-29 21:51:30.307173376   \n",
       "user_id                               775047.25   \n",
       "variation                                   2.0   \n",
       "duration_minutes                      23.846971   \n",
       "\n",
       "                                            max            std  \n",
       "start_time                  2024-11-30 23:59:24            NaN  \n",
       "end_time          2024-12-01 01:14:56.038636271            NaN  \n",
       "user_id                                999985.0  259952.026473  \n",
       "variation                                   2.0       0.476887  \n",
       "duration_minutes                     176.260608      18.306269  "
      ]
     },
     "execution_count": 36,
     "metadata": {},
     "output_type": "execute_result"
    }
   ],
   "source": [
    "Q1 = session_data['duration_minutes'].quantile(0.25)\n",
    "Q3 = session_data['duration_minutes'].quantile(0.75)\n",
    "IQR = Q3 - Q1\n",
    "upper_bound = Q3 + 1.5 * IQR\n",
    "\n",
    "long_sessions = session_data[session_data['duration_minutes'] > upper_bound]\n",
    "\n",
    "print(f\"Number of unusually long sessions: {len(long_sessions)}\")\n",
    "print(\"\\nStatistics for session durations (in minutes):\")\n",
    "print(session_data['duration_minutes'].describe())\n",
    "print(\"\\nTop 5 longest sessions:\")\n",
    "print(session_data.sort_values('duration_minutes', ascending=False).head())\n",
    "session_data.describe(include='all').T"
   ]
  },
  {
   "cell_type": "code",
   "execution_count": 37,
   "metadata": {},
   "outputs": [
    {
     "data": {
      "image/png": "[encoded data removed]",
      "text/plain": [
       "<Figure size 1200x600 with 2 Axes>"
      ]
     },
     "metadata": {},
     "output_type": "display_data"
    }
   ],
   "source": [
    "\n",
    "# Visualize session duration distribution\n",
    "plt.figure(figsize=(12, 6))\n",
    "plt.subplot(1, 2, 1)\n",
    "sns.histplot(session_data['duration_minutes'], bins=50, kde=True)\n",
    "plt.title('Session Duration Distribution')\n",
    "plt.xlabel('Duration (minutes)')\n",
    "plt.axvline(x=upper_bound, color='r', linestyle='--', label=f'Outlier Threshold: {upper_bound:.2f} min')\n",
    "plt.legend()\n",
    "\n",
    "plt.subplot(1, 2, 2)\n",
    "sns.boxplot(y=session_data['duration_minutes'])\n",
    "plt.title('Session Duration Boxplot')\n",
    "plt.ylabel('Duration (minutes)')\n",
    "plt.tight_layout()\n",
    "plt.show()"
   ]
  },
  {
   "cell_type": "markdown",
   "metadata": {},
   "source": [
    "Data Cleaning Steps\n",
    "\n",
    "- [ ] 1. Check for Data Completeness\n",
    "\n",
    "Verify that events are properly logged for the entire test period (Nov 25-30, 2024)\n",
    "Ensure no gaps in data collection for either variation\n",
    "Look for any periods of technical issues that might have affected data collection\n",
    "\n",
    "- [ ] 2. Validate User Assignment\n",
    "\n",
    "Confirm that users were properly randomized between control and test groups\n",
    "Check if the distribution between variations is roughly equal (should be close to 50/50)\n",
    "Verify that users stayed in their assigned variation throughout the test period\n",
    "\n",
    "- [ ] 3. Identify and Handle Outliers\n",
    "\n",
    "Look for unusual user behavior patterns (e.g., users with extremely high numbers of page reloads)\n",
    "Identify and potentially exclude test accounts or internal team members\n",
    "Flag sessions with technical errors that might affect normal user behavior\n",
    "\n",
    "- [ ] 4. Session and User Data Consistency\n",
    "\n",
    "Check for broken sessions (incomplete funnel data)\n",
    "Ensure each session is properly associated with the correct user_id\n",
    "Validate that the platform information (iOS/Android) is consistent within sessions\n",
    "\n",
    "- [ ] 5. Event Sequence Validation\n",
    "\n",
    "Verify the logical order of events (e.g., a user can't have order_paid without entry_to_shop)\n",
    "Look for duplicate events within the same session\n",
    "Check for proper timestamps and chronological order of events\n",
    "\n",
    "- [x] 6. Handle Missing Values\n",
    "\n",
    "Identify any null values in critical fields\n",
    "Determine appropriate strategies for missing data (e.g., exclusion or imputation)\n",
    "Check if missing values are distributed equally between test and control groups\n",
    "\n",
    "- [] 7. Platform-Specific Issues\n",
    "\n",
    "Check if data collection works properly across both iOS and Android\n",
    "Look for platform-specific anomalies that might indicate technical issues\n",
    "\n",
    "- [] 8. Create Analysis-Ready Dataset\n",
    "\n",
    "Create a clean dataset that includes only valid sessions and events\n",
    "Generate derived metrics for analysis (conversion rates, time between events, etc.)\n",
    "Segment users appropriately for cohort analysis"
   ]
  },
  {
   "cell_type": "markdown",
   "metadata": {},
   "source": [
    "### **Timestamps**"
   ]
  },
  {
   "cell_type": "markdown",
   "metadata": {},
   "source": [
    "### **Create relevant KPIs**"
   ]
  }
 ],
 "metadata": {
  "kernelspec": {
   "display_name": "Python 3",
   "language": "python",
   "name": "python3"
  },
  "language_info": {
   "codemirror_mode": {
    "name": "ipython",
    "version": 3
   },
   "file_extension": ".py",
   "mimetype": "text/x-python",
   "name": "python",
   "nbconvert_exporter": "python",
   "pygments_lexer": "ipython3",
   "version": "3.12.1"
  }
 },
 "nbformat": 4,
 "nbformat_minor": 2
}
