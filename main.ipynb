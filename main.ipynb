{
 "cells": [
  {
   "cell_type": "code",
   "execution_count": null,
   "metadata": {},
   "outputs": [],
   "source": [
    "import pandas as pd\n",
    "import numpy as np\n",
    "import matplotlib.pyplot as plt\n",
    "import seaborn as sns"
   ]
  },
  {
   "cell_type": "code",
   "execution_count": 2,
   "metadata": {},
   "outputs": [
    {
     "data": {
      "text/html": [
       "<div>\n",
       "<style scoped>\n",
       "    .dataframe tbody tr th:only-of-type {\n",
       "        vertical-align: middle;\n",
       "    }\n",
       "\n",
       "    .dataframe tbody tr th {\n",
       "        vertical-align: top;\n",
       "    }\n",
       "\n",
       "    .dataframe thead th {\n",
       "        text-align: right;\n",
       "    }\n",
       "</style>\n",
       "<table border=\"1\" class=\"dataframe\">\n",
       "  <thead>\n",
       "    <tr style=\"text-align: right;\">\n",
       "      <th></th>\n",
       "      <th>event_id</th>\n",
       "      <th>session_id</th>\n",
       "      <th>user_id</th>\n",
       "      <th>variation</th>\n",
       "      <th>platform</th>\n",
       "      <th>datetime_event</th>\n",
       "      <th>event_type</th>\n",
       "      <th>final_order_status</th>\n",
       "      <th>shop_id</th>\n",
       "    </tr>\n",
       "  </thead>\n",
       "  <tbody>\n",
       "    <tr>\n",
       "      <th>0</th>\n",
       "      <td>63527610</td>\n",
       "      <td>6391574</td>\n",
       "      <td>762832</td>\n",
       "      <td>2</td>\n",
       "      <td>Android</td>\n",
       "      <td>2024-11-30 16:23:46.391133804</td>\n",
       "      <td>entry_to_shop</td>\n",
       "      <td>successful</td>\n",
       "      <td>8531.0</td>\n",
       "    </tr>\n",
       "    <tr>\n",
       "      <th>1</th>\n",
       "      <td>12446736</td>\n",
       "      <td>6391574</td>\n",
       "      <td>762832</td>\n",
       "      <td>2</td>\n",
       "      <td>Android</td>\n",
       "      <td>2024-11-30 16:26:16.875713965</td>\n",
       "      <td>order_paid</td>\n",
       "      <td>successful</td>\n",
       "      <td>8531.0</td>\n",
       "    </tr>\n",
       "    <tr>\n",
       "      <th>2</th>\n",
       "      <td>90232698</td>\n",
       "      <td>6391574</td>\n",
       "      <td>762832</td>\n",
       "      <td>2</td>\n",
       "      <td>Android</td>\n",
       "      <td>2024-11-30 16:50:44.827088753</td>\n",
       "      <td>order_finished</td>\n",
       "      <td>successful</td>\n",
       "      <td>8531.0</td>\n",
       "    </tr>\n",
       "    <tr>\n",
       "      <th>3</th>\n",
       "      <td>74183469</td>\n",
       "      <td>9246026</td>\n",
       "      <td>762832</td>\n",
       "      <td>2</td>\n",
       "      <td>Android</td>\n",
       "      <td>2024-11-29 13:21:28.729203894</td>\n",
       "      <td>reload_the_page</td>\n",
       "      <td>NaN</td>\n",
       "      <td>6186.0</td>\n",
       "    </tr>\n",
       "    <tr>\n",
       "      <th>4</th>\n",
       "      <td>16360628</td>\n",
       "      <td>9246026</td>\n",
       "      <td>762832</td>\n",
       "      <td>2</td>\n",
       "      <td>Android</td>\n",
       "      <td>2024-11-29 13:21:35.213637901</td>\n",
       "      <td>entry_to_shop</td>\n",
       "      <td>NaN</td>\n",
       "      <td>6186.0</td>\n",
       "    </tr>\n",
       "  </tbody>\n",
       "</table>\n",
       "</div>"
      ],
      "text/plain": [
       "   event_id  session_id  user_id  variation platform  \\\n",
       "0  63527610     6391574   762832          2  Android   \n",
       "1  12446736     6391574   762832          2  Android   \n",
       "2  90232698     6391574   762832          2  Android   \n",
       "3  74183469     9246026   762832          2  Android   \n",
       "4  16360628     9246026   762832          2  Android   \n",
       "\n",
       "                  datetime_event       event_type final_order_status  shop_id  \n",
       "0  2024-11-30 16:23:46.391133804    entry_to_shop         successful   8531.0  \n",
       "1  2024-11-30 16:26:16.875713965       order_paid         successful   8531.0  \n",
       "2  2024-11-30 16:50:44.827088753   order_finished         successful   8531.0  \n",
       "3  2024-11-29 13:21:28.729203894  reload_the_page                NaN   6186.0  \n",
       "4  2024-11-29 13:21:35.213637901    entry_to_shop                NaN   6186.0  "
      ]
     },
     "execution_count": 2,
     "metadata": {},
     "output_type": "execute_result"
    }
   ],
   "source": [
    "df = pd.read_csv('DATASET.csv')\n",
    "df.head()"
   ]
  },
  {
   "cell_type": "markdown",
   "metadata": {},
   "source": [
    "# Data Cleaning & EDA"
   ]
  },
  {
   "cell_type": "code",
   "execution_count": 3,
   "metadata": {},
   "outputs": [
    {
     "name": "stdout",
     "output_type": "stream",
     "text": [
      "<class 'pandas.core.frame.DataFrame'>\n",
      "RangeIndex: 326921 entries, 0 to 326920\n",
      "Data columns (total 9 columns):\n",
      " #   Column              Non-Null Count   Dtype  \n",
      "---  ------              --------------   -----  \n",
      " 0   event_id            326921 non-null  int64  \n",
      " 1   session_id          326921 non-null  int64  \n",
      " 2   user_id             326921 non-null  int64  \n",
      " 3   variation           326921 non-null  int64  \n",
      " 4   platform            326921 non-null  object \n",
      " 5   datetime_event      326921 non-null  object \n",
      " 6   event_type          326921 non-null  object \n",
      " 7   final_order_status  170632 non-null  object \n",
      " 8   shop_id             315842 non-null  float64\n",
      "dtypes: float64(1), int64(4), object(4)\n",
      "memory usage: 22.4+ MB\n"
     ]
    }
   ],
   "source": [
    "df.info()"
   ]
  },
  {
   "cell_type": "code",
   "execution_count": 4,
   "metadata": {},
   "outputs": [
    {
     "data": {
      "text/html": [
       "<div>\n",
       "<style scoped>\n",
       "    .dataframe tbody tr th:only-of-type {\n",
       "        vertical-align: middle;\n",
       "    }\n",
       "\n",
       "    .dataframe tbody tr th {\n",
       "        vertical-align: top;\n",
       "    }\n",
       "\n",
       "    .dataframe thead th {\n",
       "        text-align: right;\n",
       "    }\n",
       "</style>\n",
       "<table border=\"1\" class=\"dataframe\">\n",
       "  <thead>\n",
       "    <tr style=\"text-align: right;\">\n",
       "      <th></th>\n",
       "      <th>count</th>\n",
       "      <th>unique</th>\n",
       "      <th>top</th>\n",
       "      <th>freq</th>\n",
       "      <th>mean</th>\n",
       "      <th>std</th>\n",
       "      <th>min</th>\n",
       "      <th>25%</th>\n",
       "      <th>50%</th>\n",
       "      <th>75%</th>\n",
       "      <th>max</th>\n",
       "    </tr>\n",
       "  </thead>\n",
       "  <tbody>\n",
       "    <tr>\n",
       "      <th>event_id</th>\n",
       "      <td>326921.0</td>\n",
       "      <td>NaN</td>\n",
       "      <td>NaN</td>\n",
       "      <td>NaN</td>\n",
       "      <td>54971223.274348</td>\n",
       "      <td>26005727.141926</td>\n",
       "      <td>10000027.0</td>\n",
       "      <td>32451323.0</td>\n",
       "      <td>54919061.0</td>\n",
       "      <td>77504919.0</td>\n",
       "      <td>99999925.0</td>\n",
       "    </tr>\n",
       "    <tr>\n",
       "      <th>session_id</th>\n",
       "      <td>326921.0</td>\n",
       "      <td>NaN</td>\n",
       "      <td>NaN</td>\n",
       "      <td>NaN</td>\n",
       "      <td>5493266.772453</td>\n",
       "      <td>2598273.9833</td>\n",
       "      <td>1000058.0</td>\n",
       "      <td>3246170.0</td>\n",
       "      <td>5486265.0</td>\n",
       "      <td>7742072.0</td>\n",
       "      <td>9999979.0</td>\n",
       "    </tr>\n",
       "    <tr>\n",
       "      <th>user_id</th>\n",
       "      <td>326921.0</td>\n",
       "      <td>NaN</td>\n",
       "      <td>NaN</td>\n",
       "      <td>NaN</td>\n",
       "      <td>550159.16329</td>\n",
       "      <td>259722.459324</td>\n",
       "      <td>100003.0</td>\n",
       "      <td>325736.0</td>\n",
       "      <td>549509.0</td>\n",
       "      <td>775308.0</td>\n",
       "      <td>999985.0</td>\n",
       "    </tr>\n",
       "    <tr>\n",
       "      <th>variation</th>\n",
       "      <td>326921.0</td>\n",
       "      <td>NaN</td>\n",
       "      <td>NaN</td>\n",
       "      <td>NaN</td>\n",
       "      <td>1.349684</td>\n",
       "      <td>0.476871</td>\n",
       "      <td>1.0</td>\n",
       "      <td>1.0</td>\n",
       "      <td>1.0</td>\n",
       "      <td>2.0</td>\n",
       "      <td>2.0</td>\n",
       "    </tr>\n",
       "    <tr>\n",
       "      <th>platform</th>\n",
       "      <td>326921</td>\n",
       "      <td>2</td>\n",
       "      <td>Android</td>\n",
       "      <td>225929</td>\n",
       "      <td>NaN</td>\n",
       "      <td>NaN</td>\n",
       "      <td>NaN</td>\n",
       "      <td>NaN</td>\n",
       "      <td>NaN</td>\n",
       "      <td>NaN</td>\n",
       "      <td>NaN</td>\n",
       "    </tr>\n",
       "    <tr>\n",
       "      <th>datetime_event</th>\n",
       "      <td>326921</td>\n",
       "      <td>324699</td>\n",
       "      <td>2024-11-29 23:59:24.000000000</td>\n",
       "      <td>674</td>\n",
       "      <td>NaN</td>\n",
       "      <td>NaN</td>\n",
       "      <td>NaN</td>\n",
       "      <td>NaN</td>\n",
       "      <td>NaN</td>\n",
       "      <td>NaN</td>\n",
       "      <td>NaN</td>\n",
       "    </tr>\n",
       "    <tr>\n",
       "      <th>event_type</th>\n",
       "      <td>326921</td>\n",
       "      <td>4</td>\n",
       "      <td>entry_to_shop</td>\n",
       "      <td>168215</td>\n",
       "      <td>NaN</td>\n",
       "      <td>NaN</td>\n",
       "      <td>NaN</td>\n",
       "      <td>NaN</td>\n",
       "      <td>NaN</td>\n",
       "      <td>NaN</td>\n",
       "      <td>NaN</td>\n",
       "    </tr>\n",
       "    <tr>\n",
       "      <th>final_order_status</th>\n",
       "      <td>170632</td>\n",
       "      <td>3</td>\n",
       "      <td>successful</td>\n",
       "      <td>146035</td>\n",
       "      <td>NaN</td>\n",
       "      <td>NaN</td>\n",
       "      <td>NaN</td>\n",
       "      <td>NaN</td>\n",
       "      <td>NaN</td>\n",
       "      <td>NaN</td>\n",
       "      <td>NaN</td>\n",
       "    </tr>\n",
       "    <tr>\n",
       "      <th>shop_id</th>\n",
       "      <td>315842.0</td>\n",
       "      <td>NaN</td>\n",
       "      <td>NaN</td>\n",
       "      <td>NaN</td>\n",
       "      <td>5440.652238</td>\n",
       "      <td>2645.409437</td>\n",
       "      <td>1003.0</td>\n",
       "      <td>3150.0</td>\n",
       "      <td>5351.0</td>\n",
       "      <td>7801.0</td>\n",
       "      <td>9992.0</td>\n",
       "    </tr>\n",
       "  </tbody>\n",
       "</table>\n",
       "</div>"
      ],
      "text/plain": [
       "                       count  unique                            top    freq  \\\n",
       "event_id            326921.0     NaN                            NaN     NaN   \n",
       "session_id          326921.0     NaN                            NaN     NaN   \n",
       "user_id             326921.0     NaN                            NaN     NaN   \n",
       "variation           326921.0     NaN                            NaN     NaN   \n",
       "platform              326921       2                        Android  225929   \n",
       "datetime_event        326921  324699  2024-11-29 23:59:24.000000000     674   \n",
       "event_type            326921       4                  entry_to_shop  168215   \n",
       "final_order_status    170632       3                     successful  146035   \n",
       "shop_id             315842.0     NaN                            NaN     NaN   \n",
       "\n",
       "                               mean              std         min         25%  \\\n",
       "event_id            54971223.274348  26005727.141926  10000027.0  32451323.0   \n",
       "session_id           5493266.772453     2598273.9833   1000058.0   3246170.0   \n",
       "user_id                550159.16329    259722.459324    100003.0    325736.0   \n",
       "variation                  1.349684         0.476871         1.0         1.0   \n",
       "platform                        NaN              NaN         NaN         NaN   \n",
       "datetime_event                  NaN              NaN         NaN         NaN   \n",
       "event_type                      NaN              NaN         NaN         NaN   \n",
       "final_order_status              NaN              NaN         NaN         NaN   \n",
       "shop_id                 5440.652238      2645.409437      1003.0      3150.0   \n",
       "\n",
       "                           50%         75%         max  \n",
       "event_id            54919061.0  77504919.0  99999925.0  \n",
       "session_id           5486265.0   7742072.0   9999979.0  \n",
       "user_id               549509.0    775308.0    999985.0  \n",
       "variation                  1.0         2.0         2.0  \n",
       "platform                   NaN         NaN         NaN  \n",
       "datetime_event             NaN         NaN         NaN  \n",
       "event_type                 NaN         NaN         NaN  \n",
       "final_order_status         NaN         NaN         NaN  \n",
       "shop_id                 5351.0      7801.0      9992.0  "
      ]
     },
     "execution_count": 4,
     "metadata": {},
     "output_type": "execute_result"
    }
   ],
   "source": [
    "df.describe(include='all').T"
   ]
  },
  {
   "cell_type": "markdown",
   "metadata": {},
   "source": [
    "### **Summary Statistics**\n",
    "\n",
    "**Mean of 1.35** - Variation 1 (control) has 65% of the data. (65%/35%) split between control and test isn't exactly even - was this intentional or a randomization error? \n",
    "\n",
    "Most events 69% occured on **Android devices** - why such a skew to one device? Will need to keep this platform imbalance in mind. "
   ]
  },
  {
   "cell_type": "code",
   "execution_count": 5,
   "metadata": {},
   "outputs": [
    {
     "data": {
      "text/plain": [
       "event_id                   0\n",
       "session_id                 0\n",
       "user_id                    0\n",
       "variation                  0\n",
       "platform                   0\n",
       "datetime_event             0\n",
       "event_type                 0\n",
       "final_order_status    156289\n",
       "shop_id                11079\n",
       "dtype: int64"
      ]
     },
     "execution_count": 5,
     "metadata": {},
     "output_type": "execute_result"
    }
   ],
   "source": [
    "missing_values = df.isnull().sum()\n",
    "missing_percentage = (df.isnull().sum() / len(df)) * 100\n",
    "\n",
    "missing_values\n"
   ]
  },
  {
   "cell_type": "code",
   "execution_count": 6,
   "metadata": {},
   "outputs": [
    {
     "data": {
      "text/plain": [
       "event_id               0.000000\n",
       "session_id             0.000000\n",
       "user_id                0.000000\n",
       "variation              0.000000\n",
       "platform               0.000000\n",
       "datetime_event         0.000000\n",
       "event_type             0.000000\n",
       "final_order_status    47.806351\n",
       "shop_id                3.388892\n",
       "dtype: float64"
      ]
     },
     "execution_count": 6,
     "metadata": {},
     "output_type": "execute_result"
    }
   ],
   "source": [
    "missing_percentage"
   ]
  },
  {
   "cell_type": "markdown",
   "metadata": {},
   "source": [
    "### **Missing Values**\n",
    "\n",
    "Almost half of the events don't have a **final_order_status** - need to check if any order completion events are missing their status\n",
    "\n",
    "**shop_id** is missing for some events - could be a data completeness issue. "
   ]
  },
  {
   "cell_type": "code",
   "execution_count": null,
   "metadata": {},
   "outputs": [
    {
     "name": "stdout",
     "output_type": "stream",
     "text": [
      "Missing final_order_status by event_type (%):\n",
      " event_type\n",
      "reload_the_page    75.166141\n",
      "entry_to_shop      68.838689\n",
      "order_finished      0.000000\n",
      "order_paid          0.000000\n",
      "Name: final_order_status, dtype: float64\n",
      "\n",
      "Order events missing status: 0\n",
      "\n",
      "Missing shop_id by event_type (%):\n",
      " event_type\n",
      "reload_the_page    20.566178\n",
      "entry_to_shop       0.000000\n",
      "order_finished      0.000000\n",
      "order_paid          0.000000\n",
      "Name: shop_id, dtype: float64\n",
      "\n",
      "Missing shop_id by platform (%):\n",
      " platform\n",
      "Android    3.434265\n",
      "iOS        3.287389\n",
      "Name: shop_id, dtype: float64\n",
      "\n",
      "Missing shop_id by variation (%):\n",
      " variation\n",
      "1    3.416713\n",
      "2    3.337153\n",
      "Name: shop_id, dtype: float64\n"
     ]
    },
    {
     "data": {
      "image/png": "[encoded data removed]",
      "text/plain": [
       "<Figure size 1200x500 with 3 Axes>"
      ]
     },
     "metadata": {},
     "output_type": "display_data"
    }
   ],
   "source": [
    "# Missing final_order_status by event_type\n",
    "missing_by_event = df.groupby('event_type')['final_order_status'].apply(lambda x: x.isnull().mean() * 100).sort_values(ascending=False)\n",
    "print(\"Missing final_order_status by event_type (%):\\n\", missing_by_event)\n",
    "\n",
    "# Check if order completion events are missing status\n",
    "order_missing = df[df['event_type'].isin(['order_paid', 'order_finished']) & df['final_order_status'].isnull()]\n",
    "print(f\"\\nOrder events missing status: {len(order_missing)}\")\n",
    "\n",
    "# Missing shop_id analysis\n",
    "print(\"\\nMissing shop_id by event_type (%):\\n\", df.groupby('event_type')['shop_id'].apply(lambda x: x.isnull().mean() * 100).sort_values(ascending=False))\n",
    "print(\"\\nMissing shop_id by platform (%):\\n\", df.groupby('platform')['shop_id'].apply(lambda x: x.isnull().mean() * 100))\n",
    "print(\"\\nMissing shop_id by variation (%):\\n\", df.groupby('variation')['shop_id'].apply(lambda x: x.isnull().mean() * 100))\n",
    "\n",
    "# Visualize relationship between missing values\n",
    "plt.figure(figsize=(12, 5))\n",
    "plt.subplot(1, 2, 1)\n",
    "sns.barplot(x=missing_by_event.index, y=missing_by_event.values)\n",
    "plt.title('Missing final_order_status by Event Type (%)')\n",
    "plt.xticks(rotation=45)\n",
    "\n",
    "plt.show()"
   ]
  },
  {
   "cell_type": "markdown",
   "metadata": {},
   "source": [
    "**For missing final_order_status**: This pattern makes  sense from a business perspective - early funnel events like page reloads and shop entries naturally don't have order statuses. \n",
    "It's not random and follows a structure - we will leave them as is. \n",
    "\n",
    "**For missing shop_id**: About 20.6% of reload_the_page events have missing shop IDs. All other event types have complete shop ID information. We could fill in the missing shop_ids based on users with mulitple events from the same session - this could deal with some of them. \n",
    "\n",
    "However, since the reload_page events is the only event with missing shop ids, is relatively small across platforms and variations we could just keep it as is.\n",
    "The similar rates of missing values of shop_ids is a good thing:\n",
    "\n",
    "- Android (3.43%) and iOS (3.29%)\n",
    "- Variation 1 (3.42%) and Variation 2 (3.34%) \n",
    "\n",
    "We can test for significance here - but these tiny differences here are minute (0.14% between platforms and 0.08% between variations) and would have a negligible impact on the AB test results even if they were significant. With more time I would check this. Let's soldier on! and focus on other part of the analysis"
   ]
  },
  {
   "cell_type": "markdown",
   "metadata": {},
   "source": [
    "### **Detect Outliers - Session Duration**\n",
    "\n",
    "abnormal user behaviour"
   ]
  },
  {
   "cell_type": "markdown",
   "metadata": {},
   "source": [
    "### **Timestamps**"
   ]
  },
  {
   "cell_type": "markdown",
   "metadata": {},
   "source": [
    "### **Create relevant KPIs**"
   ]
  }
 ],
 "metadata": {
  "kernelspec": {
   "display_name": "Python 3",
   "language": "python",
   "name": "python3"
  },
  "language_info": {
   "codemirror_mode": {
    "name": "ipython",
    "version": 3
   },
   "file_extension": ".py",
   "mimetype": "text/x-python",
   "name": "python",
   "nbconvert_exporter": "python",
   "pygments_lexer": "ipython3",
   "version": "3.12.1"
  }
 },
 "nbformat": 4,
 "nbformat_minor": 2
}
